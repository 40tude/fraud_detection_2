{
 "cells": [
  {
   "cell_type": "markdown",
   "metadata": {},
   "source": [
    "# Objectives\n",
    "Today : 27 11 2024  \n",
    "Fetch data from the realt-time source from Jedha  \n",
    "Run e set of tests with evidently to see if there are some change with the data from last month\n",
    "\n",
    "## My problem\n",
    "See 01_client_predict.py  \n",
    "Models 3 & 4 from last month are inline  \n",
    "Models 6 & 7 from yesterday are inline  \n",
    "Models 4 & 7 never agree  \n",
    "\n",
    "\n"
   ]
  },
  {
   "cell_type": "code",
   "execution_count": null,
   "metadata": {},
   "outputs": [],
   "source": [
    "import json\n",
    "import time\n",
    "import requests\n",
    "import pandas as pd\n",
    "from pathlib import Path\n",
    "from datetime import datetime, timezone\n",
    "\n",
    "k_DATA_PRODUCER = \"https://real-time-payments-api.herokuapp.com/current-transactions\"\n",
    "\n",
    "(Path.cwd()/\"data\").mkdir(parents=True, exist_ok=True)\n"
   ]
  },
  {
   "cell_type": "code",
   "execution_count": 4,
   "metadata": {},
   "outputs": [],
   "source": [
    "\n",
    "\n",
    "# -----------------------------------------------------------------------------\n",
    "def get_one_transaction() -> pd.DataFrame:\n",
    "\n",
    "    response = requests.get(k_DATA_PRODUCER)\n",
    "    data = response.json()\n",
    "\n",
    "    if isinstance(data, str):\n",
    "        data = json.loads(data)\n",
    "\n",
    "    columns = data[\"columns\"]\n",
    "    index = data[\"index\"]\n",
    "    rows = data[\"data\"]\n",
    "\n",
    "    df = pd.DataFrame(data=rows, index=index, columns=columns)\n",
    "\n",
    "    # ! DANGER - 17 is hard coded\n",
    "    col = df[\"current_time\"]\n",
    "    df.insert(17, \"unix_time\", col)\n",
    "\n",
    "    # convert to date string\n",
    "    df.rename(columns={\"current_time\": \"trans_date_trans_time\"}, inplace=True)\n",
    "    timestamp = df[\"trans_date_trans_time\"].iloc[0]\n",
    "    date = datetime.fromtimestamp(timestamp / 1000, tz=timezone.utc)\n",
    "    str_date = date.strftime(\"%Y-%m-%d %H:%M:%S\")\n",
    "\n",
    "    df[\"trans_date_trans_time\"] = df[\"trans_date_trans_time\"].astype(str)\n",
    "    df.at[index[0], \"trans_date_trans_time\"] = str_date\n",
    "\n",
    "    cols = df.columns.tolist()\n",
    "    reordered_cols = [cols[-1]] + cols[:-1]  # the last col then all the other until the before last col\n",
    "    df = df[reordered_cols]\n",
    "\n",
    "    return df\n",
    "\n",
    "\n",
    "\n"
   ]
  },
  {
   "cell_type": "code",
   "execution_count": 5,
   "metadata": {},
   "outputs": [],
   "source": [
    "def get_one_transaction_mock():\n",
    "    return pd.DataFrame({'id': [1], 'value': [42], 'timestamp': [pd.Timestamp.now()]})"
   ]
  },
  {
   "cell_type": "code",
   "execution_count": null,
   "metadata": {},
   "outputs": [
    {
     "name": "stdout",
     "output_type": "stream",
     "text": [
      "Record 0 saved.\n",
      "Record 1 saved.\n",
      "Record 2 saved.\n",
      "Record 3 saved.\n",
      "Record 4 saved.\n",
      "Record 5 saved.\n",
      "Record 6 saved.\n",
      "Record 7 saved.\n",
      "Record 8 saved.\n",
      "Record 9 saved.\n"
     ]
    }
   ],
   "source": [
    "# get_1_transaction = get_one_transaction_mock\n",
    "get_1_transaction = get_one_transaction\n",
    "\n",
    "# Define the output CSV filename relative to the notebook's directory\n",
    "csv_filename = \"production.csv\"\n",
    "output_path = Path.cwd()/\"data\"/csv_filename\n",
    "\n",
    "# Create the file with headers if it doesn't exist\n",
    "if not output_path.exists():\n",
    "    # Open the file in write mode and write headers\n",
    "    with output_path.open(mode='w') as f:\n",
    "        # Write the headers (adjust based on your DataFrame structure)\n",
    "        # headers = get_one_transaction().columns\n",
    "        headers = get_1_transaction().columns\n",
    "        f.write(','.join(headers) + '\\n')\n",
    "\n",
    "try:\n",
    "    for i in range(500):  \n",
    "        transaction = get_1_transaction()\n",
    "        transaction.to_csv(output_path, mode='a', index=False, header=False)\n",
    "        time.sleep(1)  \n",
    "        print(f\"Record {i} saved.\")\n",
    "except KeyboardInterrupt:\n",
    "    # Seems not working\n",
    "    print(\"Process interrupted by the user.\")\n",
    "except Exception as e:\n",
    "    # Log any other unexpected errors\n",
    "    print(f\"An error occurred: {e}\")\n",
    "finally:\n",
    "    print(f\"Data saved to: {output_path}\")\n"
   ]
  }
 ],
 "metadata": {
  "kernelspec": {
   "display_name": "evidently_no_docker",
   "language": "python",
   "name": "python3"
  },
  "language_info": {
   "codemirror_mode": {
    "name": "ipython",
    "version": 3
   },
   "file_extension": ".py",
   "mimetype": "text/x-python",
   "name": "python",
   "nbconvert_exporter": "python",
   "pygments_lexer": "ipython3",
   "version": "3.12.7"
  }
 },
 "nbformat": 4,
 "nbformat_minor": 2
}
