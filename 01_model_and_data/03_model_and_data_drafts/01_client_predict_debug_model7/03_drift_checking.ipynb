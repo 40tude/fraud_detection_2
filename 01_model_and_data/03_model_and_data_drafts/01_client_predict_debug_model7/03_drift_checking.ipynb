{
 "cells": [
  {
   "cell_type": "code",
   "execution_count": null,
   "metadata": {},
   "outputs": [],
   "source": [
    "#\n",
    "# ! Select evidently_no_docker virtual env \n",
    "# conda install numpy pandas evidently  -c conda-forge -y just ins case\n",
    "# \n"
   ]
  },
  {
   "cell_type": "code",
   "execution_count": null,
   "metadata": {},
   "outputs": [],
   "source": [
    "# -----------------------------------------------------------------------------\n",
    "# prelude\n",
    "\n",
    "import random\n",
    "import numpy as np\n",
    "import pandas as pd\n",
    "from pathlib import Path\n",
    "from datetime import datetime\n",
    "pd.options.display.max_columns = None\n",
    "# pd.reset_option('display.max_columns')\n",
    "\n",
    "# import evidently\n",
    "# print(evidently.__version__)\n",
    "\n",
    "from evidently.report import Report\n",
    "from evidently.test_suite import TestSuite\n",
    "from evidently.metric_preset import DataDriftPreset\n",
    "from evidently.test_preset import DataStabilityTestPreset\n",
    "from evidently.pipeline.column_mapping import ColumnMapping\n",
    "\n",
    "\n",
    "# !!!!!!!!!!!!!!!!!\n",
    "import warnings\n",
    "warnings.filterwarnings(\"ignore\", category=RuntimeWarning)\n"
   ]
  },
  {
   "cell_type": "code",
   "execution_count": null,
   "metadata": {},
   "outputs": [],
   "source": [
    "# -----------------------------------------------------------------------------\n",
    "k_Number_of_samples     = 1024  # ! Must be an even number >= 30\n",
    "\n",
    "# k_Current_dir   = Path.cwd()\n",
    "# print(k_Current_dir)\n",
    "k_Data_Dir        = Path.cwd()/\"../../04_data\"\n",
    "k_Fraud_Test_csv  = \"fraud_test.csv\"\n",
    "k_Production_csv = \"production.csv\"\n",
    "\n",
    "\n"
   ]
  },
  {
   "cell_type": "code",
   "execution_count": null,
   "metadata": {},
   "outputs": [],
   "source": [
    "# -----------------------------------------------------------------------------\n",
    "# df = pd.read_csv(k_Data_Dir/k_Fraud_Test_csv)\n",
    "# df.rename(columns={df.columns[0]: 'id'}, inplace=True)\n",
    "# df.columns = df.columns.str.lower()\n",
    "# df.head(3)"
   ]
  },
  {
   "cell_type": "code",
   "execution_count": null,
   "metadata": {},
   "outputs": [],
   "source": [
    "# pick k_Number_of_samples samples to create a reference_df\n",
    "df = pd.read_csv(k_Data_Dir/k_Fraud_Test_csv)\n",
    "num_rows: int = len(df)\n",
    "reference_indices = random.sample(range(num_rows), int(k_Number_of_samples))\n",
    "# reference_df = df.iloc[reference_indices]\n",
    "reference_df = df.loc[reference_indices]\n",
    "reference_df.rename(columns={reference_df.columns[0]: 'id'}, inplace=True)\n",
    "reference_df[\"trans_date_trans_time\"] = pd.to_datetime(reference_df[\"trans_date_trans_time\"], format='%Y-%m-%d %H:%M:%S')\n",
    "reference_df[\"dob\"] = pd.to_datetime(reference_df[\"dob\"], format='%Y-%m-%d')\n",
    "reference_df[\"is_fraud\"] = reference_df[\"is_fraud\"].astype(bool)\n",
    "\n",
    "\n",
    "df = pd.read_csv(Path(k_Data_Dir)/k_Production_csv)\n",
    "num_rows: int = len(df)\n",
    "production_indices = random.sample(range(num_rows), int(k_Number_of_samples))\n",
    "\n",
    "# production_df = df.iloc[production_indices]\n",
    "production_df = df.loc[production_indices]\n",
    "\n",
    "# production_df.rename(columns={production_df.columns[0]: 'id'}, inplace=True)\n",
    "# Insert an id at column 0 and fill from 1 to n_rows\n",
    "production_df.insert(0, 'id', range(1, k_Number_of_samples + 1))\n",
    "production_df[\"trans_date_trans_time\"] = pd.to_datetime(production_df[\"trans_date_trans_time\"], format='%Y-%m-%d %H:%M:%S')\n",
    "production_df[\"dob\"] = pd.to_datetime(production_df[\"dob\"], format='%Y-%m-%d')\n",
    "production_df[\"is_fraud\"] = production_df[\"is_fraud\"].astype(bool)\n",
    "\n",
    "\n"
   ]
  },
  {
   "cell_type": "code",
   "execution_count": null,
   "metadata": {},
   "outputs": [],
   "source": [
    "# Filtrer uniquement les colonnes numériques dans les DataFrames\n",
    "# Car le modèle n'utilise que les données numériques et qu'en plus en mode demo\n",
    "# on introduit du biais que sur certaines données numériques\n",
    "\n",
    "reference_numeric_df  = reference_df.select_dtypes(include=\"number\")\n",
    "production_numeric_df = production_df.select_dtypes(include=\"number\")\n",
    "# production_drifted_numeric_df = production_drifted_df.select_dtypes(include=\"number\")\n",
    "\n",
    "numeric_columns = reference_df.select_dtypes(include=\"number\").columns\n",
    "object_columns = reference_df.select_dtypes(include=\"object\").columns\n",
    "\n",
    "\n",
    "column_mapping = ColumnMapping(\n",
    "    numerical_features=numeric_columns,\n",
    "    # categorical_features=[\"gender\", \"category\"],\n",
    "    datetime_features=[\"trans_date_trans_time\", \"dob\"],\n",
    "    target=\"is_fraud\",\n",
    "    id=\"id\"\n",
    ")\n",
    "\n",
    "\n",
    "# Run the report and analyze drift\n",
    "data_drift_report = Report(metrics=[DataDriftPreset()])\n",
    "\n",
    "\n",
    "\n",
    "\n",
    "\n",
    "\n"
   ]
  },
  {
   "cell_type": "code",
   "execution_count": null,
   "metadata": {},
   "outputs": [],
   "source": [
    "# data_drift_report.run(reference_data=reference_numeric_df, current_data=production_numeric_df, column_mapping=None)\n",
    "data_drift_report.run(reference_data=reference_numeric_df, current_data=production_numeric_df)\n",
    "\n",
    "# Extract and display drifted features\n",
    "results = data_drift_report.as_dict()\n",
    "drift_by_columns = results['metrics'][1]['result']['drift_by_columns']\n",
    "\n",
    "# Display features with drift\n",
    "drifted_features = [\n",
    "    col for col, details in drift_by_columns.items()\n",
    "    # Si la clé 'drift_detected' existe dans le dictionnaire, sa valeur sera retournée sinon on retourne False\n",
    "    if details.get('drift_detected', False)  \n",
    "]\n",
    "print(\"Features with drift:\", drifted_features)\n",
    "\n"
   ]
  },
  {
   "cell_type": "code",
   "execution_count": null,
   "metadata": {},
   "outputs": [],
   "source": [
    "# column_mapping=None => Inférence automatique\n",
    "data_drift_report.run(reference_data=reference_numeric_df, current_data=production_numeric_df, column_mapping=None)\n",
    "data_drift_report.show(\"inline\")\n",
    "\n",
    "timestamp = datetime.now().strftime(\"%Y%m%d_%H%M%S\")\n",
    "output_file = f\"data_drift_report_{timestamp}.html\"\n",
    "data_drift_report.save_html(output_file)\n",
    "\n"
   ]
  },
  {
   "cell_type": "code",
   "execution_count": null,
   "metadata": {},
   "outputs": [],
   "source": [
    "if True:\n",
    "    data_stability= TestSuite(tests=[\n",
    "        DataStabilityTestPreset(), # ici on fait 1 seul test de stabilité\n",
    "    ])\n",
    "\n",
    "    # column_mapping=None => Inférence automatique\n",
    "    data_stability.run(reference_data=reference_numeric_df, current_data=production_numeric_df, column_mapping=None)         \n",
    "    data_stability.show(\"inline\")\n",
    "\n",
    "    timestamp = datetime.now().strftime(\"%Y%m%d_%H%M%S\")\n",
    "    output_file = f\"data_stability_report_{timestamp}.html\"\n",
    "    data_drift_report.save_html(output_file)\n",
    "\n"
   ]
  }
 ],
 "metadata": {
  "kernelspec": {
   "display_name": "evidently_no_docker",
   "language": "python",
   "name": "python3"
  },
  "language_info": {
   "codemirror_mode": {
    "name": "ipython",
    "version": 3
   },
   "file_extension": ".py",
   "mimetype": "text/x-python",
   "name": "python",
   "nbconvert_exporter": "python",
   "pygments_lexer": "ipython3",
   "version": "3.12.7"
  }
 },
 "nbformat": 4,
 "nbformat_minor": 2
}
